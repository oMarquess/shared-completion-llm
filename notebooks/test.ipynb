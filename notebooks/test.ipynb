{
 "cells": [
  {
   "cell_type": "code",
   "execution_count": null,
   "metadata": {},
   "outputs": [],
   "source": [
    "%pip install langchain-community"
   ]
  },
  {
   "cell_type": "code",
   "execution_count": 7,
   "metadata": {},
   "outputs": [],
   "source": [
    "import logging\n",
    "import os\n",
    "from dotenv import load_dotenv\n",
    "import openai\n",
    "from pydantic import BaseModel\n",
    "from fastapi import HTTPException\n",
    "from langchain.prompts.chat import ChatPromptTemplate, SystemMessagePromptTemplate, HumanMessagePromptTemplate\n",
    "from langchain_core.prompts import PromptTemplate\n",
    "from langchain.llms import OpenAI\n",
    "\n",
    "# Load environment variables\n",
    "load_dotenv(override=True)\n",
    "\n",
    "# Environment variables for API keys and model configuration\n",
    "OPENAI_API_KEY = os.getenv(\"OPENAI_API_KEY\")\n",
    "OPENAI_MODEL = os.getenv(\"OPENAI_MODEL\", \"gpt-3.5-turbo\")"
   ]
  },
  {
   "cell_type": "code",
   "execution_count": 8,
   "metadata": {},
   "outputs": [
    {
     "name": "stderr",
     "output_type": "stream",
     "text": [
      "c:\\Users\\srede\\OneDrive\\Desktop\\Projex\\shared-completion-llm\\venv\\Lib\\site-packages\\langchain_core\\_api\\deprecation.py:141: LangChainDeprecationWarning: The class `OpenAI` was deprecated in LangChain 0.0.10 and will be removed in 0.3.0. An updated version of the class exists in the langchain-openai package and should be used instead. To use it run `pip install -U langchain-openai` and import as `from langchain_openai import OpenAI`.\n",
      "  warn_deprecated(\n"
     ]
    }
   ],
   "source": [
    "llm = OpenAI(temperature=0.9)"
   ]
  },
  {
   "cell_type": "code",
   "execution_count": 10,
   "metadata": {},
   "outputs": [],
   "source": [
    "prompt_template = PromptTemplate.from_template(\n",
    "    \"Tell me a {adjective} joke about {content}.\"\n",
    ")\n"
   ]
  },
  {
   "cell_type": "code",
   "execution_count": 11,
   "metadata": {},
   "outputs": [
    {
     "name": "stderr",
     "output_type": "stream",
     "text": [
      "c:\\Users\\srede\\OneDrive\\Desktop\\Projex\\shared-completion-llm\\venv\\Lib\\site-packages\\langchain_core\\_api\\deprecation.py:141: LangChainDeprecationWarning: The method `BaseLLM.__call__` was deprecated in langchain-core 0.1.7 and will be removed in 1.0. Use invoke instead.\n",
      "  warn_deprecated(\n"
     ]
    }
   ],
   "source": [
    "response = llm(prompt_template.format(adjective=\"funny\", content=\"chickens\"))"
   ]
  },
  {
   "cell_type": "code",
   "execution_count": 12,
   "metadata": {},
   "outputs": [
    {
     "name": "stdout",
     "output_type": "stream",
     "text": [
      "\n",
      "\n",
      "Why did the chicken cross the playground? To get to the other slide!\n"
     ]
    }
   ],
   "source": [
    "print(response)"
   ]
  },
  {
   "cell_type": "code",
   "execution_count": 27,
   "metadata": {},
   "outputs": [],
   "source": [
    "class ChatOpenAILLM:\n",
    "    def __init__(self):\n",
    "        self.logger = logging.getLogger(__name__)\n",
    "        self._initialize_openai()\n",
    "        \n",
    "        # Load templates during initialization\n",
    "        self.system_message_template = self._load_template(\"../prompt_templates/system_prompt.txt\")\n",
    "        self.user_message_template = self._load_template(\"../prompt_templates/user_prompt.txt\")\n",
    "\n",
    "    def _initialize_openai(self):\n",
    "        try:\n",
    "            # Initialize OpenAI API key\n",
    "            openai.api_key = OPENAI_API_KEY\n",
    "        except Exception as e:\n",
    "            self.logger.error(f\"Failed to initialize OpenAI: {str(e)}\")\n",
    "            raise HTTPException(status_code=500, detail=\"Failed to initialize OpenAI\")\n",
    "\n",
    "    def create_joke(self, word: str) -> str:\n",
    "        try:\n",
    "            # Update user message template with the word\n",
    "            user_message_template = self.user_message_template.format(word=word)\n",
    "            prompt = self._generate_prompt(user_message_template)\n",
    "            self.logger.info(f\"Generated prompt: {prompt}\")\n",
    "\n",
    "            response = openai.chat.completions.create(\n",
    "                model=OPENAI_MODEL,\n",
    "                messages=[{\"role\": \"system\", \"content\": prompt}],\n",
    "                max_tokens=100,\n",
    "                temperature=0.7,\n",
    "            )\n",
    "            # Access the content of the response using dot notation\n",
    "            joke = response.choices[0].message.content.strip()\n",
    "            self.logger.info(f\"Generated joke: {joke}\")\n",
    "\n",
    "            return joke\n",
    "        except Exception as e:\n",
    "            self.logger.error(f\"Error generating joke: {str(e)}\")\n",
    "            raise HTTPException(status_code=500, detail=\"Failed to generate joke\")\n",
    "\n",
    "    def _generate_prompt(self, user_message_template: str) -> str:\n",
    "        chat_template = ChatPromptTemplate.from_messages([\n",
    "            SystemMessagePromptTemplate.from_template(\"{system_message}\"),\n",
    "            HumanMessagePromptTemplate.from_template(\"{user_input}\"),\n",
    "        ])\n",
    "\n",
    "        messages = chat_template.format_messages(\n",
    "            system_message=self.system_message_template,\n",
    "            user_input=user_message_template\n",
    "        )\n",
    "\n",
    "        return \"\\n\".join([message.content for message in messages])\n",
    "\n",
    "    def _load_template(self, filepath: str) -> str:\n",
    "        try:\n",
    "            with open(filepath, \"r\", encoding=\"utf-8\") as file:\n",
    "                return file.read().strip()\n",
    "        except Exception as e:\n",
    "            self.logger.error(f\"Failed to load template from {filepath}: {str(e)}\")\n",
    "            raise HTTPException(status_code=500, detail=\"Failed to load prompt template\")"
   ]
  },
  {
   "cell_type": "code",
   "execution_count": 28,
   "metadata": {},
   "outputs": [],
   "source": [
    "llm = ChatOpenAILLM()"
   ]
  },
  {
   "cell_type": "code",
   "execution_count": 30,
   "metadata": {},
   "outputs": [
    {
     "name": "stdout",
     "output_type": "stream",
     "text": [
      "Ah, Lagos Agbero! Dem be like traffic wardens wey no dey wear uniform. You fit dey argue with dem, but if e too much, na your car key dem fit swallow o!\n"
     ]
    }
   ],
   "source": [
    "response = llm.create_joke(word='Lagos Agbero')\n",
    "print(response)"
   ]
  }
 ],
 "metadata": {
  "kernelspec": {
   "display_name": "venv",
   "language": "python",
   "name": "python3"
  },
  "language_info": {
   "codemirror_mode": {
    "name": "ipython",
    "version": 3
   },
   "file_extension": ".py",
   "mimetype": "text/x-python",
   "name": "python",
   "nbconvert_exporter": "python",
   "pygments_lexer": "ipython3",
   "version": "3.12.2"
  }
 },
 "nbformat": 4,
 "nbformat_minor": 2
}
